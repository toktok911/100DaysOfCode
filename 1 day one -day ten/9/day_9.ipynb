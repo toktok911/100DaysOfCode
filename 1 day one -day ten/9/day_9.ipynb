{
 "cells": [
  {
   "cell_type": "markdown",
   "metadata": {},
   "source": [
    "As I continued reading on issues reported on Github about sixohsix's twitter python library, I began to realize how the recent changes made by Twitter Developer is affecting third-party twitter apps and bots. And most of it is in a negative way. \n",
    "It was really discouraging to see the devastating tweets of complaining developers and the limiting borders Twitter is imposing on the use of its APIs, especially the free ones. \n"
   ]
  },
  {
   "cell_type": "markdown",
   "metadata": {},
   "source": [
    "![](https://i.imgur.com/2Pw0onf.jpg)"
   ]
  },
  {
   "cell_type": "markdown",
   "metadata": {},
   "source": [
    "I did not fully understand the Twitter API and now it gets more confusing..."
   ]
  },
  {
   "cell_type": "markdown",
   "metadata": {},
   "source": [
    "![](https://i.imgur.com/7Cdr9tr.jpg)"
   ]
  },
  {
   "cell_type": "markdown",
   "metadata": {},
   "source": [
    "I think part of it is how Twitter does not like their algorithmic timeline being bypassed by third-party twitter apps. \n"
   ]
  },
  {
   "cell_type": "markdown",
   "metadata": {},
   "source": [
    "![](https://i.imgur.com/Rt95UGB.jpg)"
   ]
  },
  {
   "cell_type": "markdown",
   "metadata": {},
   "source": [
    "But it is also affecting apps and services of crucial aims: "
   ]
  },
  {
   "cell_type": "markdown",
   "metadata": {},
   "source": [
    "![](https://i.imgur.com/4WFSmWa.jpg)"
   ]
  },
  {
   "cell_type": "markdown",
   "metadata": {},
   "source": [
    "Developers went really angry: "
   ]
  },
  {
   "cell_type": "markdown",
   "metadata": {},
   "source": [
    "![](https://i.imgur.com/E8PUxft.jpg)"
   ]
  },
  {
   "cell_type": "markdown",
   "metadata": {},
   "source": [
    "And Ahhhhhhhhhhhhh I am not sure whether or not to continue learning on Twitter APIs if the API is limiting at the first place. As I have some ideas of analysing conversations of revolution Sudanese tweeps are having on Twitter. But I will continue explorign anyway until I understand to which extent these imposed limits will be affecting what I may plan to conduct.\n",
    "\n",
    "It is just that most of the twitter w/ python tutorials are before the recent changes.\n",
    "\n",
    "-------------"
   ]
  },
  {
   "cell_type": "markdown",
   "metadata": {},
   "source": [
    "I think sometimes of starting this whole twitter thing using javascript instead of python instead of getting all over the place when I dont understand how JSON requests/responses are wrapped using which methods in Python. \n",
    "Like for example, I first thought that the tweepy python library "
   ]
  },
  {
   "cell_type": "markdown",
   "metadata": {},
   "source": [
    "Ok to break down this twitter api products problem into pieces, Twitter has 6 APIs:-\n",
    "- Search Tweet API\n",
    "- Advertising API \n",
    "- Engagement API\n",
    "- Direct Message API\n",
    "- Account Activity API\n",
    "- and the embedding API\n",
    "\n",
    "Each of which is available in three plans or packages: \n",
    "- Free\n",
    "- Premium\n",
    "- Enterprise\n",
    "\n",
    "Or maybe I got this classifying thing wrong. Just the other day i found out about account api and archive api and i wanted to pull my hair off. \n",
    "\n",
    "The Premium and Enterprise are charged. They allow for more features compared to the free one. \n",
    "\n",
    "A single Python library does not necessarily deals with all the mentioned APIs. [Here is a list of different Python libraries and the associated API they are built for.](https://github.com/twitterdev?utf8=%E2%9C%93&q=&type=&language=python)\n",
    "\n"
   ]
  },
  {
   "cell_type": "markdown",
   "metadata": {},
   "source": [
    "![](https://i.imgur.com/h16VaFM.jpg)"
   ]
  },
  {
   "cell_type": "markdown",
   "metadata": {},
   "source": [
    "But cheap thrills dont work most of the time. If for example I wanted to conduct historical research, and search from Twitter's massive archive of publicly-available Tweets posted since March 2006, the \"standard\" api will  search against a sampling of recent Tweets published in the past 7 days.\n"
   ]
  },
  {
   "cell_type": "markdown",
   "metadata": {},
   "source": [
    "![https://thenextweb.com/twitter/2018/02/01/twitter-new-api-lets-developers-sift-every-tweet-history/](https://i.imgur.com/N06YxPl.jpg)"
   ]
  },
  {
   "cell_type": "markdown",
   "metadata": {},
   "source": [
    "I dont want to say that I have reached no where with my first 10 days of coding challenge spent on Twitter W/ Python, but at least I learnt more about where the gabs are. It is more of needing to learn about python wrapping for APIs of different websites in general, and less about learning what I am able to do with data extracted from twitter, how I will do this with python, and in which ways I can tweak it. "
   ]
  },
  {
   "cell_type": "markdown",
   "metadata": {},
   "source": [
    "Tomorrow is my last day with \"twitter with python\", because i dont feel like extending it any further. After then, I will focus more on data pre-processing because I need it more at the moment. "
   ]
  }
 ],
 "metadata": {
  "kernelspec": {
   "display_name": "Python 3",
   "language": "python",
   "name": "python3"
  },
  "language_info": {
   "codemirror_mode": {
    "name": "ipython",
    "version": 3
   },
   "file_extension": ".py",
   "mimetype": "text/x-python",
   "name": "python",
   "nbconvert_exporter": "python",
   "pygments_lexer": "ipython3",
   "version": "3.7.1"
  }
 },
 "nbformat": 4,
 "nbformat_minor": 2
}
