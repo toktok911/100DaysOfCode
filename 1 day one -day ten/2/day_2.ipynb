{
 "cells": [
  {
   "cell_type": "markdown",
   "metadata": {},
   "source": [
    "Something i did not get on day one was why some Python codes have the\n",
    "     if __name__==\"__main__\" \n",
    "section. It is something that I have seen a lot. \n",
    "After searching I learnt the difference. \n",
    "\"name\" is a special variable that tells you if a file is run directly or imported.\n",
    "\"name\" is equal to \"main\" if python is running the file directly. Otherwise, main is equal to the filename being imported. \n",
    "\n",
    "Maybe there is a code that you want to run only if the file is being executed directly. And sometimes there is a code that you only want to run when it is imported. \n",
    "\n",
    "[This YouTube tutorial explains it really well.](https://www.youtube.com/watch?v=sugvnHA7ElY) \n"
   ]
  },
  {
   "cell_type": "markdown",
   "metadata": {},
   "source": [
    "Plus side note, i tried endlessly to embedd the YouTube video into this Jupyter notebook. But I realized at the end that it is not possible to do this directly, and the only way around this would be to put an image which links to the intended YouTube video. \n",
    "[Thanks for this StackOverflow answer.](https://stackoverflow.com/questions/11804820/embed-a-youtube-video) \n",
    "\n",
    "But the thing is, when Github displays a preview of my jupyter notebook, clicking that image that leads to the video kind of mess the whole previewing. So I removed the image i added earlier. "
   ]
  },
  {
   "cell_type": "markdown",
   "metadata": {},
   "source": [
    "on Day #1, what we had is just something that prints some tweets to the screen. We will be building upon that simple code and try more functions and twitter api features. "
   ]
  },
  {
   "cell_type": "markdown",
   "metadata": {},
   "source": [
    "To make things more concise, creating a new class, with a method that takes the name of the file at which the tweets will be stores, instead of just printing them to the screen. \n",
    "ok the method will be taking two arguments: the file name and a hashtag lists which will be used as out filter. \n",
    "It will handle the twitter authentication and conntection to the Twitter Streaming API.\n",
    "\n",
    "I just removed the code I had on main section of day#1 code, moved it over to the newly created method that I named steam_tweets "
   ]
  },
  {
   "cell_type": "code",
   "execution_count": null,
   "metadata": {},
   "outputs": [],
   "source": [
    "class TwitterStreamer():\n",
    "\t\"\"\"\n",
    "\tThis class handles twitter authentication and connection to the API\n",
    "\t\"\"\"\n",
    "\tdef stream_tweets(self, tweets_filename, hashtag_list):\n",
    "\t\tlistener = MyStreamListener()\n",
    "\t\tauth = OAuthHandler(twitter_credentials.consumer_key, twitter_credentials.consumer_secret)\n",
    "\t\tauth.set_access_token(twitter_credentials.access_token,twitter_credentials.access_token_secret)\n",
    "\t\t\n",
    "\t\tstream = Stream(auth, listener)\n",
    "\t\tstream.filter(track=hashtag_list)"
   ]
  },
  {
   "cell_type": "markdown",
   "metadata": {},
   "source": [
    "Another tiny edit: \n",
    "On day#1 code, the \"MyStreamListener\" class that inherites from StreamListener looks like the following:  "
   ]
  },
  {
   "cell_type": "code",
   "execution_count": null,
   "metadata": {},
   "outputs": [],
   "source": [
    "class MyStreamListener(StreamListener): \n",
    "\t\n",
    "\tdef on_data(self, data): \n",
    "\t\tprint(data)\n",
    "\t\treturn True\n",
    "\t\n",
    "\tdef on_error(self,status):\n",
    "\t\tprint(status)"
   ]
  },
  {
   "cell_type": "markdown",
   "metadata": {},
   "source": [
    "the edits on this class will be: \n",
    "- adding a constructor to this class. We will be creating an object from this class. \n",
    "- adding a try-except statement to make it better at dealing with possible errors. \n",
    "- the printing of the streamed tweets will be in a file, instead of being in the screet. But you can do both if you want to.\n"
   ]
  },
  {
   "cell_type": "code",
   "execution_count": null,
   "metadata": {},
   "outputs": [],
   "source": [
    "class MyStreamListener(StreamListener): \n",
    "\tdef __int__(self, tweets_filename):\n",
    "\t\tself.tweets_filename = tweets_filename\n",
    "\n",
    "\tdef on_data(self, data): \n",
    "\t\ttry:\n",
    "\t\t\t#print(data)\n",
    "\t\t\twith open(self.tweets_filename, 'a') as tf:\n",
    "\t\t\t\ttf.write(data)\n",
    "\t\t\t\treturn True\n",
    "\t\texcept BaseException as e:\n",
    "\t\t\tprint(\"Error on_data: %s\" % str(e))\n",
    "\t\treturn True"
   ]
  },
  {
   "cell_type": "markdown",
   "metadata": {},
   "source": [
    "now the main part of the code will  have:\n",
    "- a list of hashtags we are interested in, \n",
    "- and the name of the file that will be storing the tweets. It can be a text file .txt or Json. Json, though, has a format that will make it easier to deal with especially in reading. \n",
    "- an object of TwitterStreamer class type. Using this object, we will make use of the method we created earlier that takes the name of the file and the hashtags lists. \n"
   ]
  },
  {
   "cell_type": "code",
   "execution_count": null,
   "metadata": {},
   "outputs": [],
   "source": [
    "if __name__==\"__main__\":\n",
    "\thashtags_list = [\"تسقط_بس\", \"#مدن_السودان_تنتفض#\"]\n",
    "\ttweets_filename = \"tweets.json\"\n",
    "\n",
    "\ttwitter_streamer = TwitterStreamer()\n",
    "\ttwitter_streamer.stream_tweets(tweets_filename, hashtags_list)"
   ]
  },
  {
   "cell_type": "markdown",
   "metadata": {},
   "source": [
    "One of the errors that I got was because defining an object from a class type, but forgot to define a constructor for that class. Will make sure not to do this mistake again. "
   ]
  },
  {
   "cell_type": "code",
   "execution_count": null,
   "metadata": {},
   "outputs": [],
   "source": []
  }
 ],
 "metadata": {
  "kernelspec": {
   "display_name": "Python 3",
   "language": "python",
   "name": "python3"
  },
  "language_info": {
   "codemirror_mode": {
    "name": "ipython",
    "version": 3
   },
   "file_extension": ".py",
   "mimetype": "text/x-python",
   "name": "python",
   "nbconvert_exporter": "python",
   "pygments_lexer": "ipython3",
   "version": "3.7.1"
  }
 },
 "nbformat": 4,
 "nbformat_minor": 2
}
