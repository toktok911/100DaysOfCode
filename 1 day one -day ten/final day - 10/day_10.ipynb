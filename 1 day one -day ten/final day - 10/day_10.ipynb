{
 "cells": [
  {
   "cell_type": "markdown",
   "metadata": {},
   "source": [
    "day #10 of python with twitter. Tonight I thought of revisiting the tweepy library again, and found [this cool tutorial](http://socialmedia-class.org/twittertutorial.html) with which i started following steps. "
   ]
  },
  {
   "cell_type": "code",
   "execution_count": null,
   "metadata": {},
   "outputs": [],
   "source": [
    "import tweepy\n",
    "import twitter_credentials\n",
    "\n",
    "auth = tweepy.OAuthHandler(twitter_credentials.consumer_key, twitter_credentials.consumer_secret)\n",
    "auth.set_access_token(twitter_credentials.access_token, twitter_credentials.access_token_secret)\n",
    "\n",
    "api = tweepy.API(auth)\n",
    "\n",
    "for status in tweepy.Cursor(api.home_timeline).items(200):\n",
    "\tprint(status._json)"
   ]
  },
  {
   "cell_type": "markdown",
   "metadata": {},
   "source": [
    "The new thing here is their use for the json library to process the json requests/responses coming from the twitter API or sent to it. \n",
    "Everything was starting to go well and smooth, until I was confronted by the following error message: "
   ]
  },
  {
   "cell_type": "markdown",
   "metadata": {},
   "source": [
    "![](https://i.imgur.com/qw6cCxB.jpg)"
   ]
  },
  {
   "cell_type": "markdown",
   "metadata": {},
   "source": [
    "I tried changing the number of retrieved tweets from 200 to 10. It works sometimes. I rerun, then it does nt work. A Google search stated that the problem is with your console, not your python script.\n",
    "Although other advices on stackexchange that suggest adding a \".encode(\"utf-8\") to the print statement, so that it becomes like: print(status._json.utf-8) instead, but it did not work. \n"
   ]
  },
  {
   "cell_type": "markdown",
   "metadata": {},
   "source": [
    "![](https://i.imgur.com/xhss9G7.jpg)"
   ]
  },
  {
   "cell_type": "markdown",
   "metadata": {},
   "source": [
    "The problem is that the tutorial requires you to redirect the console output to a text file, which i will not be able to do at this moment because my console is acting up and does not want to output the json tweets at the first place, and thus, nothing to redirect to the text file. "
   ]
  },
  {
   "cell_type": "markdown",
   "metadata": {},
   "source": [
    "![](https://i.imgur.com/Oj9kD5y.jpg)"
   ]
  },
  {
   "cell_type": "markdown",
   "metadata": {},
   "source": [
    "I was so clinging to my Windows cmd console and did not want to try other python editors or IDEs, I went into giving advices and answers and ish regarding this issue:"
   ]
  },
  {
   "cell_type": "markdown",
   "metadata": {},
   "source": [
    "![](https://i.imgur.com/43kh09T.jpg)"
   ]
  },
  {
   "cell_type": "markdown",
   "metadata": {},
   "source": [
    "ANY WAY, the logic of dealing with extracted json streams of tweets says two things: \n",
    "- either you use the json library, extract the tweets and redirect the output to a text file, read the file with open() and convert each line to a json object.\n",
    "\n",
    "or\n",
    "\n",
    "- you write a function that converts those json tweets you read to a dataframe, and then use a for loop to create a file to the corresponding features of interest. "
   ]
  },
  {
   "cell_type": "markdown",
   "metadata": {},
   "source": [
    "Example of way #1: "
   ]
  },
  {
   "cell_type": "code",
   "execution_count": null,
   "metadata": {},
   "outputs": [],
   "source": [
    "tweets_filename = '200tweets.txt' #this is the file at which you redirected the console output to.\n",
    "tweets_file = open(tweets_filename, \"r\")\n",
    "\n",
    "\n",
    "for line in tweets_file:\n",
    "    try:\n",
    "        tweet = json.loads(line.strip())\n",
    "        if 'text' in tweet: \n",
    "            print(tweet['id'])\n",
    "            print(tweet['created_at']) \n",
    "            print(tweet['text']) \n",
    "                        \n",
    "            print(tweet['user']['id']) \n",
    "            print(tweet['user']['name']) \n",
    "            print(tweet['user']['screen_name']) "
   ]
  },
  {
   "cell_type": "markdown",
   "metadata": {},
   "source": [
    "Example of way#2: "
   ]
  },
  {
   "cell_type": "code",
   "execution_count": null,
   "metadata": {},
   "outputs": [],
   "source": [
    "def tweets_to_dataframe(self, tweets):\n",
    "    df = pd.DataFrame(data=[t.text for t in tweets], columns=['Tweets'])\n",
    "    df['id'] = np.array([t.id for t in tweets])\n",
    "    df['len'] = np.array([len(t.text) for t in tweets])\n",
    "    df['date'] = np.array([t.created_at for t in tweets])\n",
    "    df['source'] = np.array([t.source for t in tweets])\n",
    "    df['likes'] = np.array([t.favorite_count for t in tweets])\n",
    "    df['retweets'] = np.array([t.retweet_count for t in tweets])\n",
    "    \n",
    "    return df"
   ]
  },
  {
   "cell_type": "markdown",
   "metadata": {},
   "source": [
    "This mark the end of ten days/nights spent on Twitter with Python. I have learnt a lot, but also left with so many unanswered questions. I am still hesitant about stopping here and starting something new in the challenge for the next 10 days. Data pre-processing is more important to me and has the higher priority. So yeah. "
   ]
  }
 ],
 "metadata": {
  "kernelspec": {
   "display_name": "Python 3",
   "language": "python",
   "name": "python3"
  },
  "language_info": {
   "codemirror_mode": {
    "name": "ipython",
    "version": 3
   },
   "file_extension": ".py",
   "mimetype": "text/x-python",
   "name": "python",
   "nbconvert_exporter": "python",
   "pygments_lexer": "ipython3",
   "version": "3.7.1"
  }
 },
 "nbformat": 4,
 "nbformat_minor": 2
}
