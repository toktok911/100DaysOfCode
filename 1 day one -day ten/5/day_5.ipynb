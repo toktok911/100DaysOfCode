{
 "cells": [
  {
   "cell_type": "markdown",
   "metadata": {},
   "source": [
    "The last time, we learnt that the features or attributes that are associated with a single tweet can be displayed using the dir() function "
   ]
  },
  {
   "cell_type": "markdown",
   "metadata": {},
   "source": [
    "![](https://i.imgur.com/nzL4SSS.jpg)"
   ]
  },
  {
   "cell_type": "markdown",
   "metadata": {},
   "source": [
    "if we tried for examples things like:"
   ]
  },
  {
   "cell_type": "code",
   "execution_count": null,
   "metadata": {},
   "outputs": [],
   "source": [
    "print(tweets[0].retweet_count)"
   ]
  },
  {
   "cell_type": "markdown",
   "metadata": {},
   "source": [
    "it should show us the number of how many times tweet 0 was retweeted. \n",
    "We can access the other attributes the same way. "
   ]
  },
  {
   "cell_type": "markdown",
   "metadata": {},
   "source": [
    "If we, for example, want to store the id of the tweet along with the tweet text, we can do a small change in the function we defined earlier which takes the texts of tweet json stream and stores it in a dataframe. \n",
    "The edits on the newer version of this function will be: \n",
    "- we take the tweets that we got from the function, and loop through them.\n",
    "- while looping through each and every tweet, we tell it to give us the id of each tweet.\n",
    "- we then store that in an array. \n",
    "- we convert the array to numpy array. \n",
    "- we create a column in our data-frame, and we call it 'id'.\n"
   ]
  },
  {
   "cell_type": "code",
   "execution_count": null,
   "metadata": {},
   "outputs": [],
   "source": [
    "class TweetAnalyzer():\n",
    "    def tweets_to_dataframe(self, tweets):\n",
    "        df = pd.DataFrame(data=[t.text for t in tweets], columns=['Tweets'])\n",
    "        df['id'] = np.array([t.id for t in tweets]) # <<<<<<<<<<<<\n",
    "\n",
    "        return df"
   ]
  },
  {
   "cell_type": "markdown",
   "metadata": {},
   "source": [
    "then to test if things are working right, print the head of the data-frame again in the main part of the code."
   ]
  },
  {
   "cell_type": "code",
   "execution_count": null,
   "metadata": {},
   "outputs": [],
   "source": [
    "print(df.head(10))"
   ]
  },
  {
   "cell_type": "markdown",
   "metadata": {},
   "source": [
    "![](https://i.imgur.com/nj9hFfe.jpg)"
   ]
  },
  {
   "cell_type": "markdown",
   "metadata": {},
   "source": [
    "Now we have the corresponding id for each tweet. "
   ]
  },
  {
   "cell_type": "markdown",
   "metadata": {},
   "source": [
    "Following this way, we can just keep extracting whatever information we think are useful for us. "
   ]
  },
  {
   "cell_type": "code",
   "execution_count": null,
   "metadata": {},
   "outputs": [],
   "source": [
    "class TweetAnalyzer():\n",
    "    def tweets_to_dataframe(self, tweets):\n",
    "        df = pd.DataFrame(data=[t.text for t in tweets], columns=['Tweets'])\n",
    "\n",
    "        df['id'] = np.array([t.id for t in tweets])\n",
    "        df['len'] = np.array([len(t.text) for t in tweets])\n",
    "        df['date'] = np.array([t.created_at for t in tweets])\n",
    "        df['source'] = np.array([t.source for t in tweets])\n",
    "        df['likes'] = np.array([t.favorite_count for t in tweets])\n",
    "        df['retweets'] = np.array([t.retweet_count for t in tweets])\n",
    "\n",
    "        return df"
   ]
  },
  {
   "cell_type": "markdown",
   "metadata": {},
   "source": [
    "Other kind of information that we can get are such as: \n",
    "- the average length of all extracted tweets.\n",
    "\n",
    "Very simple: "
   ]
  },
  {
   "cell_type": "code",
   "execution_count": null,
   "metadata": {},
   "outputs": [],
   "source": [
    "print(np.mean(df['len']))"
   ]
  },
  {
   "cell_type": "markdown",
   "metadata": {},
   "source": [
    "Or for the tweet that received the most likes, how many likes were they: "
   ]
  },
  {
   "cell_type": "code",
   "execution_count": null,
   "metadata": {},
   "outputs": [],
   "source": [
    "print(np.max(df['likes']))"
   ]
  },
  {
   "cell_type": "markdown",
   "metadata": {},
   "source": [
    "We may want to try data visualization, or just a simple plotting of time-series with any of the attributes we want. \n",
    "\n",
    "[Matplotlib](https://matplotlib.org/) is the library to import in this case. "
   ]
  },
  {
   "cell_type": "code",
   "execution_count": null,
   "metadata": {},
   "outputs": [],
   "source": [
    "import matplotlib.pyplot as plt\n",
    "\n",
    "time_favs = pd.Series(data=df['likes'].values, index=df['date'])\n",
    "time_favs.plot(figsize=(16, 4), color='r')\n",
    "plt.show()"
   ]
  },
  {
   "cell_type": "markdown",
   "metadata": {},
   "source": [
    "![](https://i.imgur.com/b6OjqEY.jpg)"
   ]
  },
  {
   "cell_type": "markdown",
   "metadata": {},
   "source": [
    "We can also do time-series for other things the same way as above, for length, number of retweets, ...etc.\n",
    "\n",
    "Another one for retweets will look something like this:"
   ]
  },
  {
   "cell_type": "code",
   "execution_count": null,
   "metadata": {},
   "outputs": [],
   "source": [
    "time_retweet = pd.Series(data=df['retweets'].values, index=df['date'])\n",
    "time_retweet.plot(figsize=(16, 4), color='r')\n",
    "plt.show()"
   ]
  },
  {
   "cell_type": "markdown",
   "metadata": {},
   "source": [
    "![](https://i.imgur.com/d4h1eTR.jpg)"
   ]
  },
  {
   "cell_type": "markdown",
   "metadata": {},
   "source": [
    "You may want to pay more attention to the peaks and possible cause behind outliers that show. "
   ]
  },
  {
   "cell_type": "markdown",
   "metadata": {},
   "source": [
    "We can also combine both plots: "
   ]
  },
  {
   "cell_type": "code",
   "execution_count": null,
   "metadata": {},
   "outputs": [],
   "source": [
    "time_retweet = pd.Series(data=df['retweets'].values, index=df['date'])\n",
    "time_retweet.plot(figsize=(16, 4), label='retweet', legend=True)\n",
    "\n",
    "time_likes = pd.Series(data=df['likes'].values, index=df['date'])\n",
    "time_likes.plot(figsize=(16, 4), label='likes', legend=True)\n",
    "    \n",
    "plt.show()"
   ]
  },
  {
   "cell_type": "markdown",
   "metadata": {},
   "source": [
    "![](https://i.imgur.com/C8FjgT7.jpg)"
   ]
  },
  {
   "cell_type": "markdown",
   "metadata": {},
   "source": [
    "Because when we plot more than one variable together, we might be able to see any possible corrolations between them. "
   ]
  }
 ],
 "metadata": {
  "kernelspec": {
   "display_name": "Python 3",
   "language": "python",
   "name": "python3"
  },
  "language_info": {
   "codemirror_mode": {
    "name": "ipython",
    "version": 3
   },
   "file_extension": ".py",
   "mimetype": "text/x-python",
   "name": "python",
   "nbconvert_exporter": "python",
   "pygments_lexer": "ipython3",
   "version": "3.7.1"
  }
 },
 "nbformat": 4,
 "nbformat_minor": 2
}
