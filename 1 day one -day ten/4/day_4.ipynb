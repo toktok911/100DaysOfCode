{
 "cells": [
  {
   "cell_type": "markdown",
   "metadata": {},
   "source": [
    "day #4 is for analyzing the tweets we extracted with help of Cursor. We will be needing two librarires here: \n",
    "- numpy.\n",
    "- pandas.\n",
    "\n",
    "I have once [blogged about pandas -in Sudani Arabic-](https://sudaniscience.wordpress.com/2018/12/07/coding-for-ml-2-pandas/)at my SudaniScience blog. On the same blog, there is a series of articles posted by my friend on [using numpy for linear algebra](https://sudaniscience.wordpress.com/category/linear-algebra/) -also in Arabic. "
   ]
  },
  {
   "cell_type": "code",
   "execution_count": null,
   "metadata": {},
   "outputs": [],
   "source": [
    "import pandas as pd \n",
    "import numpy as np "
   ]
  },
  {
   "cell_type": "markdown",
   "metadata": {},
   "source": [
    "defining a function that will allow us to get directly to the twitter API and extract data from the tweets that we get. We will have this in the TwitterClient() class. \n",
    "And it will only return the twitter_client variable we defined earlier. \n",
    "So now, the TwitterClient class should look something like this: \n"
   ]
  },
  {
   "cell_type": "code",
   "execution_count": null,
   "metadata": {},
   "outputs": [],
   "source": [
    "class TwitterClient():\n",
    "    def __init__(self, twitter_user=None):\n",
    "        self.auth=TwitterAuthenticator().authenticate_twitter()\n",
    "        self.twitter_client = API(self.auth)\n",
    "        self.twitter_user = twitter_user\n",
    "    \n",
    "    def get_twitter_client_api(self):\n",
    "        return self.twitter_client\n",
    "\n",
    "    def get_user_tweets(self, num_tweets):\n",
    "        tweets = []\n",
    "        for t in Cursor(self.twitter_client.user_timeline, id= self.twitter_user).items(num_tweets):\n",
    "            tweets.append(t)\n",
    "        return tweets"
   ]
  },
  {
   "cell_type": "markdown",
   "metadata": {},
   "source": [
    "In the main part, we then create a TwitterClient object and make use of the new function we created, get_twitter_client_api\n",
    "Delete the stuff we tried from the previosu days, and start adding on the main part of the code from the scratch"
   ]
  },
  {
   "cell_type": "code",
   "execution_count": null,
   "metadata": {},
   "outputs": [],
   "source": [
    "if __name__ == '__main__':\n",
    "\n",
    "    twitter_client = TwitterClient()\n",
    "    api = twitter_client.get_twitter_client_api()\n"
   ]
  },
  {
   "cell_type": "markdown",
   "metadata": {},
   "source": [
    "in order to obtain from the client we just created, we use the user_timeline method the way below.\n",
    "It allows us to define a twitter-user of interest, and how many tweets we want to print.\n",
    "Place the below line in the main part of the code. "
   ]
  },
  {
   "cell_type": "code",
   "execution_count": null,
   "metadata": {},
   "outputs": [],
   "source": [
    "tweets = api.user_timeline(screen_name=\"toktok911\", count=\"10\" )\n",
    "print(tweets)"
   ]
  },
  {
   "cell_type": "markdown",
   "metadata": {},
   "source": [
    "The tweets we get here are a big json stream. "
   ]
  },
  {
   "cell_type": "markdown",
   "metadata": {},
   "source": [
    "In order to neatly organize the storing of the tweets, we need to create a data-frame, so that we can do a better processing and analysis for the data we extracted. \n",
    "Here come the numpy and panda 's parts! "
   ]
  },
  {
   "cell_type": "markdown",
   "metadata": {},
   "source": [
    "For analyzing the extracted tweets, we need to create a new class, let's call it TweetAnalyzer()\n",
    "And inside this class, we define a function that takes the tweets stream and store it in a data-frame object. \n",
    "We will need to iterate through the tweets stream with a for loop as the following: "
   ]
  },
  {
   "cell_type": "code",
   "execution_count": null,
   "metadata": {},
   "outputs": [],
   "source": [
    "class TweetAnalyzer():\n",
    "    def tweets_to_dataframe(self, tweets):\n",
    "        df = pd.DataFrame(data=[t.text for t in tweets], columns=['Tweets'])"
   ]
  },
  {
   "cell_type": "markdown",
   "metadata": {},
   "source": [
    "Back to the main. \n",
    "We will create a TweetAnalyzer object, make use of the tweets_to_dataframe method by passing the tweets stream to it. \n",
    "The main should now look like the following: "
   ]
  },
  {
   "cell_type": "code",
   "execution_count": null,
   "metadata": {},
   "outputs": [],
   "source": [
    "if __name__ == '__main__':\n",
    "    twitter_client = TwitterClient()\n",
    "    api = twitter_client.get_twitter_client_api()\n",
    "\n",
    "    tweets = api.user_timeline(screen_name=\"toktok911\", count=\"20\" )\n",
    "    #print(tweets)\n",
    "    \n",
    "    tweet_analyzer=TweetAnalyzer()                   #<<<<\n",
    "    df = tweet_analyzer.tweets_to_dataframe(tweets)  #<<<<<"
   ]
  },
  {
   "cell_type": "markdown",
   "metadata": {},
   "source": [
    "Just to make sure that everything is working, print the head of the data-frame you created. "
   ]
  },
  {
   "cell_type": "code",
   "execution_count": null,
   "metadata": {},
   "outputs": [],
   "source": [
    "print(df.head(10))"
   ]
  },
  {
   "cell_type": "markdown",
   "metadata": {},
   "source": [
    "From my end here it shows the following: "
   ]
  },
  {
   "cell_type": "markdown",
   "metadata": {},
   "source": [
    "![](https://i.imgur.com/F0cU5Pz.jpg)"
   ]
  },
  {
   "cell_type": "markdown",
   "metadata": {},
   "source": [
    "The lined squares in the last printed tweet is because it was in Arabic language. "
   ]
  },
  {
   "cell_type": "markdown",
   "metadata": {},
   "source": [
    "There are more information that can be extracted from these tweets. A single tweet has a big number of attributes that we can see when with help of dir() function in Python. "
   ]
  },
  {
   "cell_type": "markdown",
   "metadata": {},
   "source": [
    "![](https://i.imgur.com/CiRzHmM.jpg)"
   ]
  },
  {
   "cell_type": "code",
   "execution_count": null,
   "metadata": {},
   "outputs": [],
   "source": [
    "print(dir(tweets[0]))"
   ]
  },
  {
   "cell_type": "markdown",
   "metadata": {},
   "source": [
    "The above print statement will print the attributes of a single tweet, which are shown below: "
   ]
  },
  {
   "cell_type": "markdown",
   "metadata": {},
   "source": [
    "![](https://i.imgur.com/nzL4SSS.jpg)"
   ]
  },
  {
   "cell_type": "markdown",
   "metadata": {},
   "source": [
    "What we are going to do the coming days is figuring out how to extract these information and what to make with them. \n",
    "I have this wedding to catch in few hours, so I will stop here for today. \n",
    "\n",
    "Bis Bald! "
   ]
  }
 ],
 "metadata": {
  "kernelspec": {
   "display_name": "Python 3",
   "language": "python",
   "name": "python3"
  },
  "language_info": {
   "codemirror_mode": {
    "name": "ipython",
    "version": 3
   },
   "file_extension": ".py",
   "mimetype": "text/x-python",
   "name": "python",
   "nbconvert_exporter": "python",
   "pygments_lexer": "ipython3",
   "version": "3.7.1"
  }
 },
 "nbformat": 4,
 "nbformat_minor": 2
}
