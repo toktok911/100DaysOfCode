{
 "cells": [
  {
   "cell_type": "markdown",
   "metadata": {},
   "source": [
    "Pagenation and cursor objects for accessing specific tweets of certain users and things of the like. \n",
    "- [about tweepy's cursor.]((http://docs.tweepy.org/en/3.7.0/cursor_tutorial.html)) \n",
    "- [Cursoring explained at Twitter Developer website. ](https://developer.twitter.com/en/docs/basics/cursoring.html)\n",
    "\n"
   ]
  },
  {
   "cell_type": "markdown",
   "metadata": {},
   "source": [
    "As usual, i will be building upon the code of the previous day, day#2. \n",
    "For today, there are two more imports to do: "
   ]
  },
  {
   "cell_type": "code",
   "execution_count": null,
   "metadata": {},
   "outputs": [],
   "source": [
    "from tweepy import API\n",
    "from tweepy import Cursor"
   ]
  },
  {
   "cell_type": "markdown",
   "metadata": {},
   "source": [
    "For the authentication part, it can be separated in its own class, instead of doing it inside the TwitterStreamer() class. \n"
   ]
  },
  {
   "cell_type": "code",
   "execution_count": null,
   "metadata": {},
   "outputs": [],
   "source": [
    "class TwitterAuthenticator():\n",
    "    def  authenticate_twitter(self):\n",
    "        auth = OAuthHandler(twitter_credentials.consumer_key, twitter_credentials.consumer_secret)\n",
    "        auth.set_access_token(twitter_credentials.access_token, twitter_credentials.access_token_secret)   \n",
    "        return auth\n"
   ]
  },
  {
   "cell_type": "markdown",
   "metadata": {},
   "source": [
    "and then instatiate an object of the authentication class in the constructor of TwitterStreamer class, and then use that object where we had the previous authentication code. "
   ]
  },
  {
   "cell_type": "code",
   "execution_count": null,
   "metadata": {},
   "outputs": [],
   "source": [
    "class TwitterStreamer():\n",
    "    def __init__(self):\n",
    "        self.twitter_authenticator = TwitterAuthenticator()##\n",
    "\n",
    "    def stream_tweets(self, tweets_filename, hashtags_list):\n",
    "        listener = MyListener(tweets_filename)\n",
    "        auth = self.twitter_authenticator.authenticate_twitter()##\n",
    "        stream = Stream(auth, listener)\n",
    "        stream.filter(track=hashtags_list)"
   ]
  },
  {
   "cell_type": "markdown",
   "metadata": {},
   "source": [
    "Another thing that worth mentioning is the *rate limit* imposed by twitter API that locks you out from accessing information. It happened when you exceed the number of access requests within a timely window. \n"
   ]
  },
  {
   "cell_type": "markdown",
   "metadata": {},
   "source": [
    "More information and tips to avoid being rate limited [are available here. ](https://developer.twitter.com/en/docs/basics/rate-limiting.html)"
   ]
  },
  {
   "cell_type": "markdown",
   "metadata": {},
   "source": [
    "One way to avoid being locked out because of rate_limit error, is returning false when the first rate_limit warning occurs. \n",
    "We can do that by tweaking the on_error method we defined earlier in myListener() class that inherits from StreamListener. \n"
   ]
  },
  {
   "cell_type": "code",
   "execution_count": null,
   "metadata": {},
   "outputs": [],
   "source": [
    "def on_error(self, status):\n",
    "        if status ==420:\n",
    "            return False\n",
    "        print(status)"
   ]
  },
  {
   "cell_type": "markdown",
   "metadata": {},
   "source": [
    "![](https://i.imgur.com/SPPXFF1.jpg)"
   ]
  },
  {
   "cell_type": "markdown",
   "metadata": {},
   "source": [
    "![](https://i.imgur.com/UK9y9bn.jpg)"
   ]
  },
  {
   "cell_type": "markdown",
   "metadata": {},
   "source": [
    "![](https://i.imgur.com/qFLL29y.jpg)"
   ]
  },
  {
   "cell_type": "markdown",
   "metadata": {},
   "source": [
    "![](https://i.imgur.com/mkNvUHU.jpg)"
   ]
  },
  {
   "cell_type": "markdown",
   "metadata": {},
   "source": [
    "Now comes the part of making use of the Cursor module that we imported, in retreiving tweets based on a specified user-name for example. \n",
    "- We need here to create a class, let's call it TwitterClient, and then use the Cursor to iterate through all the tweets of a given user. \n",
    "- Instead of specifying the username we want to extract tweets from, and the number of extracted tweets, in the main part of the code, we can do this in the TwitterClient class using Cursor, and then: \n",
    "- instantiating an object from the TwitterClient in the main part. "
   ]
  },
  {
   "cell_type": "code",
   "execution_count": null,
   "metadata": {},
   "outputs": [],
   "source": [
    "class TwitterClient():\n",
    "    def __init__(self):\n",
    "        self.auth=TwitterAuthenticator.authenticate_twitter()\n",
    "        self.twitter_client = API(self.auth)\n",
    "        \n",
    "    def get_user_tweets(self, num_tweets):\n",
    "        tweets = []\n",
    "        for t in Cursor(self.twitter_client.user_timeline).items(num_tweets):\n",
    "            tweets.append(t)\n",
    "        return tweets"
   ]
  },
  {
   "cell_type": "markdown",
   "metadata": {},
   "source": [
    "![](https://i.imgur.com/ftCPY2f.jpg)"
   ]
  },
  {
   "cell_type": "markdown",
   "metadata": {},
   "source": [
    "The edited main part of the code will look something like this: "
   ]
  },
  {
   "cell_type": "code",
   "execution_count": null,
   "metadata": {},
   "outputs": [],
   "source": [
    "if __name__ == '__main__':\n",
    " \n",
    "    #hash_tag_list = [\"#تسقط_بس\", \"#مدن_السودان_تنتفض\", \"#SudanUprise\", \"#SudanRevolts\"]\n",
    "    #fetched_tweets_filename = \"tweets.txt\"\n",
    "\n",
    "    twitter_client = TwitterClient()\n",
    "    print(twitter_client.get_user_tweets(1))\n",
    "    \n",
    "   # twitter_streamer = TwitterStreamer()\n",
    "   # twitter_streamer.stream_tweets(fetched_tweets_filename, hash_tag_list)"
   ]
  },
  {
   "cell_type": "markdown",
   "metadata": {},
   "source": [
    "This way, I have used the Cursor to retreive the last n tweets.\n",
    "I have not specified a user, so the default will be my own twitter-user that i used when registering the app. \n"
   ]
  },
  {
   "cell_type": "markdown",
   "metadata": {},
   "source": [
    "If I want to specify a username from which I want the extraction to happen, some edits are to be made in the recently newly created class TwitterClient, \n",
    "- passing a variable to the TwitterClient constructor and giving it the name of the twitter-user, or \"None\" for default. \n",
    "- we tell the Cursor about that, using the id. \n",
    "- when you do the instantiation of TwitterClient class in the main part of the code, dont forget to pass the username as an argument. \n"
   ]
  },
  {
   "cell_type": "code",
   "execution_count": null,
   "metadata": {},
   "outputs": [],
   "source": [
    "class TwitterClient():\n",
    "    def __init__(self, twitter_user=None): ##\n",
    "        self.auth=TwitterAuthenticator().authenticate_twitter()\n",
    "        self.twitter_client = API(self.auth)\n",
    "        self.twitter_user = twitter_user\n",
    "            \n",
    "    def get_user_tweets(self, num_tweets):\n",
    "        tweets = []\n",
    "        for t in Cursor(self.twitter_client.user_timeline, id= self.twitter_user).items(num_tweets):##\n",
    "            tweets.append(t)\n",
    "        return tweets\n"
   ]
  },
  {
   "cell_type": "markdown",
   "metadata": {},
   "source": [
    "To-read: \n",
    "- [API Reference of tweepy](http://docs.tweepy.org/en/3.7.0/api.html)"
   ]
  }
 ],
 "metadata": {
  "kernelspec": {
   "display_name": "Python 3",
   "language": "python",
   "name": "python3"
  },
  "language_info": {
   "codemirror_mode": {
    "name": "ipython",
    "version": 3
   },
   "file_extension": ".py",
   "mimetype": "text/x-python",
   "name": "python",
   "nbconvert_exporter": "python",
   "pygments_lexer": "ipython3",
   "version": "3.7.1"
  }
 },
 "nbformat": 4,
 "nbformat_minor": 2
}
