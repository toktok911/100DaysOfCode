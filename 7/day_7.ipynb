{
 "cells": [
  {
   "cell_type": "markdown",
   "metadata": {},
   "source": [
    "Today was spent in exploring this new python library that works with Twitter. \n",
    "\n",
    "\"A library for developers to use when writing their own programs that want to do things with Twitter.\" \n",
    "\n",
    "I have not yet delved too deep into documentation and forums, but I have understood so far is that you will be able to do everything to and from Twitter through a command line. \n",
    "\n",
    "![](https://i.imgur.com/uYzCST4.jpg)"
   ]
  },
  {
   "cell_type": "markdown",
   "metadata": {},
   "source": [
    "I was able to check my timeline, a specific user's tweets, the lists that I have, and I learnt that I can also follow and unfollow someone through command-line. "
   ]
  },
  {
   "cell_type": "markdown",
   "metadata": {},
   "source": [
    "After installing [the twitter command-line tool](https://pypi.org/project/twitter/) using \"pip install twitter\", you open your cmd and start playing around with twitter commands and associated options. Like for example: \"twitter -h\""
   ]
  },
  {
   "cell_type": "markdown",
   "metadata": {},
   "source": [
    "![](https://i.imgur.com/tAU6PPD.jpg)"
   ]
  },
  {
   "cell_type": "markdown",
   "metadata": {},
   "source": [
    "![](https://i.imgur.com/wMQqpfp.jpg)"
   ]
  },
  {
   "cell_type": "markdown",
   "metadata": {},
   "source": [
    "Now this is my new favorite geeky way of checking my dry twitter notification haha. "
   ]
  },
  {
   "cell_type": "markdown",
   "metadata": {},
   "source": [
    "![](https://i.imgur.com/TEClTxu.jpg)"
   ]
  },
  {
   "cell_type": "markdown",
   "metadata": {},
   "source": [
    "It is not only the command-line tool, but the twitter library is a package you can import to your python code and tells it to perform certain tasks. \n",
    "\n",
    "I know I would need this if I wanted my program to do something with twitter, but I am still not quite sure how I am exactly going to use this, so I thought checking people's issues on github about this library is a good placce to start and see in which ways other developers are using it."
   ]
  },
  {
   "cell_type": "markdown",
   "metadata": {},
   "source": [
    "One Github issue for example was on how to use this twitter library to send a DM to a specific user in a more user-friendly way, with all the lastest changes to Twitter API that caused some methods to be depricated. It felt to me that this thing is more of a twitter bot kind of app thingie."
   ]
  },
  {
   "cell_type": "markdown",
   "metadata": {},
   "source": [
    "Had to begin with the readme file of course. "
   ]
  },
  {
   "cell_type": "markdown",
   "metadata": {},
   "source": [
    "Okie on readme file it was explained how DMs can be sent to a specific user using the python script. I tried DMing myself and it worked!"
   ]
  },
  {
   "cell_type": "code",
   "execution_count": null,
   "metadata": {},
   "outputs": [],
   "source": [
    "import twitter_credentials #this is a .py file where i am saving my twitter credentials\n",
    "from twitter import *\n",
    "\n",
    "\n",
    "t = Twitter(auth=OAuth(twitter_credentials.access_token, \n",
    "\ttwitter_credentials.access_token_secret, \n",
    "\ttwitter_credentials.consumer_key, twitter_credentials.consumer_secret))\n",
    "\n",
    "#print(t.statuses.home_timeline())\n",
    "\n",
    "t.direct_messages.events.new(\n",
    "    _json={\n",
    "        \"event\": {\n",
    "            \"type\": \"message_create\",\n",
    "            \"message_create\": {\n",
    "                \"target\": {\n",
    "                    \"recipient_id\": t.users.show(screen_name=\"toktok911\")[\"id\"]},\n",
    "                \"message_data\": {\n",
    "                    \"text\": \"henai !\"}}}})"
   ]
  },
  {
   "cell_type": "markdown",
   "metadata": {},
   "source": [
    "![](https://i.imgur.com/anoRjac.jpg)"
   ]
  },
  {
   "cell_type": "markdown",
   "metadata": {},
   "source": [
    "I have also tried printing the home timeline, but the returned was a messy decoded JSON. "
   ]
  },
  {
   "cell_type": "code",
   "execution_count": null,
   "metadata": {},
   "outputs": [],
   "source": [
    "print(t.statuses.home_timeline())"
   ]
  },
  {
   "cell_type": "markdown",
   "metadata": {},
   "source": [
    "![]()"
   ]
  },
  {
   "cell_type": "markdown",
   "metadata": {},
   "source": [
    "This is converted into a bunch of Python lists, dicts, ints, and strings. Similar to what we have tried with tweepy in the previous days. This is to be tried tomorrow. "
   ]
  },
  {
   "cell_type": "markdown",
   "metadata": {},
   "source": [
    "![]()"
   ]
  }
 ],
 "metadata": {
  "kernelspec": {
   "display_name": "Python 3",
   "language": "python",
   "name": "python3"
  },
  "language_info": {
   "codemirror_mode": {
    "name": "ipython",
    "version": 3
   },
   "file_extension": ".py",
   "mimetype": "text/x-python",
   "name": "python",
   "nbconvert_exporter": "python",
   "pygments_lexer": "ipython3",
   "version": "3.7.1"
  }
 },
 "nbformat": 4,
 "nbformat_minor": 2
}
