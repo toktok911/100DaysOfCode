{
 "cells": [
  {
   "cell_type": "markdown",
   "metadata": {},
   "source": [
    "\n"
   ]
  },
  {
   "cell_type": "markdown",
   "metadata": {},
   "source": [
    "# DAY ONE \n",
    "### Feb 2nd 2019\n",
    "\n",
    "I figured that the easiest and simplest project to do is something related to Twitter Sentiment Analysis using Python. What the bellow code does is just that it streams tweets in realtime directly from twitter. \n",
    "\n",
    "1. install tweepy\n",
    "2. create a twitter developer account, or use your exsiting account to log in to apps.twitter.com\n",
    "\n",
    "Well, I have not used twitter apps in ages. This time when i logged in to create a new one, the questions that I need to answer were different, and I need to submit and wait for a confirmation at email to be able to start working with it. For my case, the email came stating that the details i gave were not enough and I need to expand more on the purposes and intentions of creating this app. I have seen an emphasis on warnings about possible usage of extracted tweets that would possible invade other users privacy. Anyway, after providing more detailing, I received the confirmation and started playing around with it.\n"
   ]
  },
  {
   "cell_type": "markdown",
   "metadata": {},
   "source": [
    "![](https://i.imgur.com/8vIZrJa.jpg)"
   ]
  },
  {
   "cell_type": "markdown",
   "metadata": {},
   "source": [
    "After providing the below details, I got confirmed. \n"
   ]
  },
  {
   "cell_type": "markdown",
   "metadata": {},
   "source": [
    "![](https://i.imgur.com/9bgiBxy.jpg)"
   ]
  },
  {
   "cell_type": "markdown",
   "metadata": {},
   "source": [
    "Basically, I used two reference materials: \n",
    "\n",
    "- [Tweepy python library documentation](https://www.google.com)\n",
    "- And, a cool playlist at YouTube at a channel called LucidProgramming, about [Twitter API with Python](https://www.youtube.com/playlist?list=PL5tcWHG-UPH2zBfOz40HSzcGUPAVOOnu1)\n",
    "\n",
    "plus, a [markdown cheatsheet](https://github.com/adam-p/markdown-here/wiki/Markdown-Cheatsheet) of course to be able to document this. \n"
   ]
  },
  {
   "cell_type": "markdown",
   "metadata": {},
   "source": [
    "\n",
    "First step after creating the twitter application, is saving the below four information on a .py file. Values of these variables you will find in your twitter app dashboard. \n",
    "\n",
    "- consumer_key = \"xxxxxxxxxxx\"\n",
    "- consumer_secret = \"xxxxxxxx\" \n",
    "- access_token = \"xxxxxxxx\"\n",
    "- access_token_secret = \"xxxxxxxx\"\n",
    "\n",
    "These are the values used by your Python code to be able to talk with the Twitter API. "
   ]
  },
  {
   "cell_type": "markdown",
   "metadata": {},
   "source": [
    "Streaming tweets from twitter consist of three basic steps. \n",
    "\n",
    "- Creating a class that inherits from StreamListener. \n",
    "- inside this newly created class, eoverriding the necessary methods, such as on_data and  on_error. \n",
    "- creating an object from this newly created class, and gets it to stream the tweets \n"
   ]
  },
  {
   "cell_type": "code",
   "execution_count": null,
   "metadata": {},
   "outputs": [],
   "source": [
    "from tweepy.streaming import StreamListener \n",
    "form tweepy import OAuthHandler\n",
    "from tweepy import Stream \n",
    "\n",
    "import twitter_credentials #this is where the four tokens above are saved, consumer_key, consumer_secret...etc"
   ]
  },
  {
   "cell_type": "code",
   "execution_count": null,
   "metadata": {},
   "outputs": [],
   "source": [
    "class MyStreamListener(StreamListener): \n",
    "\t\n",
    "\tdef on_data(self, data): \n",
    "\t\tprint(data)\n",
    "\t\treturn True\n",
    "\t\n",
    "\tdef on_error(self,status):\n",
    "\t\tprint(status)"
   ]
  },
  {
   "cell_type": "markdown",
   "metadata": {},
   "source": [
    "Notice the difference between Python class methods and functions. And dont forget to add \"self\". Otherwise, you will get an error that says: \"xxx() takes 0 positional arguments but 1 was given\"\n",
    "\n",
    "We also need to authenticate, which will be handled with tweepy.AuthHandler class. What we will be doing then is creating an OAuthHandler instance. Into this we pass our consumer_key and consumer_secret. "
   ]
  },
  {
   "cell_type": "code",
   "execution_count": null,
   "metadata": {},
   "outputs": [],
   "source": [
    "listener = MyStreamListener()\n",
    "\tauth = OAuthHandler(twitter_credentials.consumer_key, twitter_credentials.consumer_secret)\n",
    "\tauth.set_access_token(twitter_credentials.access_token,twitter_credentials.access_token_secret)\n",
    "    \n",
    "# twitter_credentials is the name of the python file at which the four tokens and their values are stored. "
   ]
  },
  {
   "cell_type": "markdown",
   "metadata": {},
   "source": [
    "we now create a variable called stream, type Stream, and we pass it two things: the authentication token, and the listener object. "
   ]
  },
  {
   "cell_type": "code",
   "execution_count": null,
   "metadata": {},
   "outputs": [],
   "source": [
    "stream = Stream(auth, listener)"
   ]
  },
  {
   "cell_type": "markdown",
   "metadata": {},
   "source": [
    "It is also worth noting that it is the Twitter Streaming API that we are dealing with here, rather than the Twitter REST API. The difference between the two is in the following screenshot that is taken from tweepy documentation.\n",
    "\n"
   ]
  },
  {
   "cell_type": "markdown",
   "metadata": {},
   "source": [
    "![](https://i.imgur.com/7pEI9Oo.jpg)"
   ]
  },
  {
   "cell_type": "markdown",
   "metadata": {},
   "source": [
    "Some of the tweets might be interesting, other might not be. So, we want to filter them using keywords or hashtags for example. \n"
   ]
  },
  {
   "cell_type": "code",
   "execution_count": null,
   "metadata": {},
   "outputs": [],
   "source": [
    "stream.filter(track=['sudan revolts','sudan uprising','تسقط بس'])"
   ]
  },
  {
   "cell_type": "markdown",
   "metadata": {},
   "source": [
    "Below is a cropped image of a json-formatted dictionary object of a single streamed tweet. Each of the fields contains information about the tweet. Getting through these fields might yield interesting things to be extracted.\n",
    ".\n",
    "![](https://i.imgur.com/QKyUrFw.jpg)"
   ]
  },
  {
   "cell_type": "markdown",
   "metadata": {},
   "source": [
    "Another screenshot that shows the size of metadata associated with a single tweet: "
   ]
  },
  {
   "cell_type": "markdown",
   "metadata": {},
   "source": [
    "![](https://i.imgur.com/qWoFuUa.jpg)"
   ]
  },
  {
   "cell_type": "markdown",
   "metadata": {},
   "source": [
    "An error that might occure is 401, which means that there is something invalid with one of the 4 authentication tokens. In this case, you will need to compare the values on twittercredentials.py file with what is in twitter developer apps dashboard. \n"
   ]
  },
  {
   "cell_type": "markdown",
   "metadata": {},
   "source": [
    "![](https://i.imgur.com/0RX7pH4.jpg)"
   ]
  },
  {
   "cell_type": "markdown",
   "metadata": {},
   "source": [
    "![](https://i.imgur.com/CBZwq34.jpg)"
   ]
  },
  {
   "cell_type": "markdown",
   "metadata": {},
   "source": [
    "What i will be doing for day two is:\n",
    "- saving the stream of tweets in a text or json file. \n",
    "- trying to have a closer and more precise look at the fields of the twitter object, and making use of the cursor class in tweepy to try different things. \n",
    "- And maybe more stuff if I get the time."
   ]
  },
  {
   "cell_type": "markdown",
   "metadata": {},
   "source": [
    "one last tip: when your cmd gets messy, clear it all by typing \"cls\""
   ]
  },
  {
   "cell_type": "code",
   "execution_count": null,
   "metadata": {},
   "outputs": [],
   "source": []
  }
 ],
 "metadata": {
  "kernelspec": {
   "display_name": "Python 3",
   "language": "python",
   "name": "python3"
  },
  "language_info": {
   "codemirror_mode": {
    "name": "ipython",
    "version": 3
   },
   "file_extension": ".py",
   "mimetype": "text/x-python",
   "name": "python",
   "nbconvert_exporter": "python",
   "pygments_lexer": "ipython3",
   "version": "3.7.1"
  }
 },
 "nbformat": 4,
 "nbformat_minor": 2
}
