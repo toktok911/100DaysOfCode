{
 "cells": [
  {
   "cell_type": "markdown",
   "metadata": {},
   "source": [
    "By this point, it is clear now how data can be extracted from Twitter and stored, and which data sctructures to use, which libraries we need. \n",
    "I still need to revisit the visualization part one more time and try to find more examples of that. \n",
    "For now, I will play with [\"TextBlob\"](https://textblob.readthedocs.io/en/dev/) library that tells whether a tweet is positive or negative. It has already-trained models that can determine the tone of the tweet. \n",
    "![](https://i.imgur.com/Nyi0Z1d.jpg)\n"
   ]
  },
  {
   "cell_type": "markdown",
   "metadata": {},
   "source": [
    "returning a number bigger than zero (>0) by polarity means that it is a positevely interprated tweet. \n",
    "If the returned number is negative, (<0), it's a tweet of a negative tone. \n",
    "if 0 is returned, it means it's neutral. "
   ]
  },
  {
   "cell_type": "code",
   "execution_count": null,
   "metadata": {},
   "outputs": [],
   "source": [
    "from textblob import TextBlob "
   ]
  },
  {
   "cell_type": "markdown",
   "metadata": {},
   "source": [
    "If textblob is not already installed, it can be downloaded and installed using pip tool. "
   ]
  },
  {
   "cell_type": "markdown",
   "metadata": {},
   "source": [
    "This thing about textblob models is that they expect the tweets to be cleaned and trimmed neatly and prepared. So, it's better if we pre-processed the tweets before passing them to textblob. \n",
    "One library that can help with that is [\"re\"](https://docs.python.org/3/library/re.html). A built-in library that you dont need to download or install -for python3. \n"
   ]
  },
  {
   "cell_type": "code",
   "execution_count": null,
   "metadata": {},
   "outputs": [],
   "source": [
    "import re "
   ]
  },
  {
   "cell_type": "markdown",
   "metadata": {},
   "source": [
    "Buildinf upon the code we started the previous days, we now need to add two more new functions to the TweetAnalyzer() class:\n",
    " - one that cleans the tweets with help of re library. \n",
    " - one that tells if a tweet is positive,negativ, neutral."
   ]
  },
  {
   "cell_type": "code",
   "execution_count": null,
   "metadata": {},
   "outputs": [],
   "source": [
    " def clean_tweet(self, tweet):\n",
    "    return ' '.join(re.sub(\"(@[A-Za-z0-9]+)|([^0-9A-Za-z \\t])|(\\w+:\\/\\/\\S+)\", \" \", tweet).split())\n",
    "\n",
    "def analyze_sentiment(self, tweet):\n",
    "    analysis = TextBlob(self.clean_tweet(tweet))\n",
    "    if analysis.sentiment.polarity >0:\n",
    "        return 1\n",
    "    elif analysis.sentiment.polarity ==0:\n",
    "        return 0\n",
    "    else: \n",
    "        return -1"
   ]
  },
  {
   "cell_type": "code",
   "execution_count": null,
   "metadata": {},
   "outputs": [],
   "source": [
    "#main part of the code: \n",
    "\n",
    "df['sentiment'] = np.array([tweet_analyzer.analyze_sentiment(t) for t in df['Tweets']])\n",
    "print(df.head(5))"
   ]
  },
  {
   "cell_type": "markdown",
   "metadata": {},
   "source": [
    "![](https://i.imgur.com/CFXnrHa.jpg)"
   ]
  },
  {
   "cell_type": "markdown",
   "metadata": {},
   "source": [
    "The thing about textblob is that it has a pre-trained algorithms. It may not work well in Arabic tweets, or it might have been trained on not very representative datasets of tweets. Who knows. I did not check the documentations very well to be honest. But if you want to start this sentiment analysis thing from the scratch and very beginning, the way to do it is by starting building your own dictionary or lexicon of words, which involves much of manual cleaning and pre-processing, and some other tedious work of assigning positive/negative/neutral labels and also training/testing using Machine Learning algorithms such as Naive Bayes for example. \n"
   ]
  },
  {
   "cell_type": "markdown",
   "metadata": {},
   "source": [
    "On my blog, I have mentioned this briefly -in Sudani Arabic- at one post [here about Bayes Theorum and Conditional probabilities](https://sudaniscience.wordpress.com/2018/09/14/probabilities-9-bayes-theorem-conditional-probabilities-part-one/). Nevertheless, learning the textblob functionalities won't hurt of course. "
   ]
  },
  {
   "cell_type": "markdown",
   "metadata": {},
   "source": [
    "Many online users of twitter use sarcasm, which may also affect the accuracy of sentiment analysis results: "
   ]
  },
  {
   "cell_type": "markdown",
   "metadata": {},
   "source": [
    "![](https://i.imgur.com/yt7xuXf.jpg)"
   ]
  },
  {
   "cell_type": "markdown",
   "metadata": {},
   "source": [
    "It is not easy work. And it has never been direct and straightforward: \n"
   ]
  },
  {
   "cell_type": "markdown",
   "metadata": {},
   "source": [
    "![](https://i.imgur.com/FiEQBmZ.jpg)"
   ]
  },
  {
   "cell_type": "markdown",
   "metadata": {},
   "source": [
    "And it has never been about just the mere identification of positive/negative/neutral label. \n",
    "There is always some more additional work that should be followed afterwards: "
   ]
  },
  {
   "cell_type": "markdown",
   "metadata": {},
   "source": [
    "![](https://i.imgur.com/0ao1blT.jpg)"
   ]
  },
  {
   "cell_type": "markdown",
   "metadata": {},
   "source": [
    "Plus, I love Quora. "
   ]
  },
  {
   "cell_type": "markdown",
   "metadata": {},
   "source": [
    "That's all for tonight. I am dedicating two hours aday for this, but I always find myself achieving little. I may need to increase the hours for this. May God help me with that."
   ]
  },
  {
   "cell_type": "code",
   "execution_count": null,
   "metadata": {},
   "outputs": [],
   "source": []
  }
 ],
 "metadata": {
  "kernelspec": {
   "display_name": "Python 3",
   "language": "python",
   "name": "python3"
  },
  "language_info": {
   "codemirror_mode": {
    "name": "ipython",
    "version": 3
   },
   "file_extension": ".py",
   "mimetype": "text/x-python",
   "name": "python",
   "nbconvert_exporter": "python",
   "pygments_lexer": "ipython3",
   "version": "3.7.1"
  }
 },
 "nbformat": 4,
 "nbformat_minor": 2
}
