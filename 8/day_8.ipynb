{
 "cells": [
  {
   "cell_type": "markdown",
   "metadata": {},
   "source": [
    "The more I read about Twitter API, the more confused I am. Since I had no idea of what I am exactly going to do with Twitter library of [sixohsix](https://github.com/sixohsix), or what kind of Twitter bot or third-party twitter app, I decided to just keep on checking what other people are doing on the [issues](https://github.com/sixohsix/twitter/issues?page=1&q=is%3Aissue+is%3Aclosed) section."
   ]
  },
  {
   "cell_type": "markdown",
   "metadata": {},
   "source": [
    "Here down below are some coding excerpts from the readme section that I tried"
   ]
  },
  {
   "cell_type": "code",
   "execution_count": null,
   "metadata": {},
   "outputs": [],
   "source": [
    "print(t.search.tweets(q=\"Sudan\", count=1))"
   ]
  },
  {
   "cell_type": "markdown",
   "metadata": {},
   "source": [
    "And i got this: "
   ]
  },
  {
   "cell_type": "markdown",
   "metadata": {},
   "source": [
    "![](https://i.imgur.com/Un9bgm2.jpg)"
   ]
  },
  {
   "cell_type": "markdown",
   "metadata": {},
   "source": [
    "What is being returned here by the tweets.search I just used is a TwitterDictResponse object. \n",
    "Now it's a question of using the data returned efficiently. \n",
    "A reminder that I am a newbie at this, and this is a safe space to make mistakes. \n",
    "So i tried the following which caused an error: "
   ]
  },
  {
   "cell_type": "code",
   "execution_count": null,
   "metadata": {},
   "outputs": [],
   "source": [
    "t.search.tweets(q=\"Sudan\", count=1)\n",
    "print(x.text)"
   ]
  },
  {
   "cell_type": "markdown",
   "metadata": {},
   "source": [
    "The error says that a \"TwitterDictResponse\" object has no attribute called \"text\". \n",
    "What I tried next is redirecting the output of execution to a text file to have a closer look at the kind of stuff being returned. "
   ]
  },
  {
   "cell_type": "code",
   "execution_count": null,
   "metadata": {},
   "outputs": [],
   "source": [
    "python day_8.py > henai.txt"
   ]
  },
  {
   "cell_type": "markdown",
   "metadata": {},
   "source": [
    "opening henai.text : "
   ]
  },
  {
   "cell_type": "markdown",
   "metadata": {},
   "source": [
    "![](https://i.imgur.com/9zz92hM.jpg)"
   ]
  },
  {
   "cell_type": "markdown",
   "metadata": {},
   "source": [
    "More confused about how to extract information from this \"TwitterDictResponse\" returned object. \n",
    "\n",
    "I dont want to lie and say how I love the labyrinths and the endless reading each and every error leads me to. It is so freaking exhuasting. But indeed educating. "
   ]
  },
  {
   "cell_type": "code",
   "execution_count": null,
   "metadata": {},
   "outputs": [],
   "source": [
    "x = t.search.tweets(q=\"Sudan\", count=1) \n",
    "print(type(x))"
   ]
  },
  {
   "cell_type": "markdown",
   "metadata": {},
   "source": [
    "output:"
   ]
  },
  {
   "cell_type": "markdown",
   "metadata": {},
   "source": [
    "<class 'twitter.api.TwitterDictResponse'>"
   ]
  },
  {
   "cell_type": "code",
   "execution_count": null,
   "metadata": {},
   "outputs": [],
   "source": [
    "x = t.search.tweets(q=\"Sudan\", count=1) \n",
    "print(dir(x))"
   ]
  },
  {
   "cell_type": "markdown",
   "metadata": {},
   "source": [
    "output: "
   ]
  },
  {
   "cell_type": "markdown",
   "metadata": {},
   "source": [
    "![](https://i.imgur.com/vMAFZLX.jpg)"
   ]
  },
  {
   "cell_type": "markdown",
   "metadata": {},
   "source": [
    "skipping json tutorials made understanding documentations harder for me. I guess that's why. \n",
    "\n",
    "What I want to try is something similar to what i did when working with tweepy: converting this to a dataframe to be able to extract those features above. "
   ]
  },
  {
   "cell_type": "markdown",
   "metadata": {},
   "source": [
    "\n",
    "Three hours and a very slow progress tonight! better than nothing, thu. "
   ]
  }
 ],
 "metadata": {
  "kernelspec": {
   "display_name": "Python 3",
   "language": "python",
   "name": "python3"
  },
  "language_info": {
   "codemirror_mode": {
    "name": "ipython",
    "version": 3
   },
   "file_extension": ".py",
   "mimetype": "text/x-python",
   "name": "python",
   "nbconvert_exporter": "python",
   "pygments_lexer": "ipython3",
   "version": "3.7.1"
  }
 },
 "nbformat": 4,
 "nbformat_minor": 2
}
